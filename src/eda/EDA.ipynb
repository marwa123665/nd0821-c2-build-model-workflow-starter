{
 "cells": [
  {
   "cell_type": "code",
   "execution_count": 1,
   "id": "9372ddda-e785-4552-a469-104e5c780d73",
   "metadata": {},
   "outputs": [
    {
     "name": "stdout",
     "output_type": "stream",
     "text": [
      "Requirement already satisfied: wandb in /workspaces/nd0821-c2-build-model-workflow-starter/venv/lib/python3.9/site-packages (0.10.31)\n",
      "Requirement already satisfied: promise<3,>=2.0 in /workspaces/nd0821-c2-build-model-workflow-starter/venv/lib/python3.9/site-packages (from wandb) (2.3)\n",
      "Requirement already satisfied: configparser>=3.8.1 in /workspaces/nd0821-c2-build-model-workflow-starter/venv/lib/python3.9/site-packages (from wandb) (7.0.0)\n",
      "Requirement already satisfied: sentry-sdk>=0.4.0 in /workspaces/nd0821-c2-build-model-workflow-starter/venv/lib/python3.9/site-packages (from wandb) (2.6.0)\n",
      "Requirement already satisfied: GitPython>=1.0.0 in /workspaces/nd0821-c2-build-model-workflow-starter/venv/lib/python3.9/site-packages (from wandb) (3.1.43)\n",
      "Requirement already satisfied: requests<3,>=2.0.0 in /workspaces/nd0821-c2-build-model-workflow-starter/venv/lib/python3.9/site-packages (from wandb) (2.32.3)\n",
      "Requirement already satisfied: six>=1.13.0 in /workspaces/nd0821-c2-build-model-workflow-starter/venv/lib/python3.9/site-packages (from wandb) (1.16.0)\n",
      "Requirement already satisfied: docker-pycreds>=0.4.0 in /workspaces/nd0821-c2-build-model-workflow-starter/venv/lib/python3.9/site-packages (from wandb) (0.4.0)\n",
      "Requirement already satisfied: protobuf>=3.12.0 in /workspaces/nd0821-c2-build-model-workflow-starter/venv/lib/python3.9/site-packages (from wandb) (3.20.3)\n",
      "Requirement already satisfied: python-dateutil>=2.6.1 in /workspaces/nd0821-c2-build-model-workflow-starter/venv/lib/python3.9/site-packages (from wandb) (2.9.0)\n",
      "Requirement already satisfied: psutil>=5.0.0 in /workspaces/nd0821-c2-build-model-workflow-starter/venv/lib/python3.9/site-packages (from wandb) (6.0.0)\n",
      "Requirement already satisfied: subprocess32>=3.5.3 in /workspaces/nd0821-c2-build-model-workflow-starter/venv/lib/python3.9/site-packages (from wandb) (3.5.4)\n",
      "Requirement already satisfied: Click>=7.0 in /workspaces/nd0821-c2-build-model-workflow-starter/venv/lib/python3.9/site-packages (from wandb) (8.1.7)\n",
      "Requirement already satisfied: PyYAML in /workspaces/nd0821-c2-build-model-workflow-starter/venv/lib/python3.9/site-packages (from wandb) (6.0.1)\n",
      "Requirement already satisfied: shortuuid>=0.5.0 in /workspaces/nd0821-c2-build-model-workflow-starter/venv/lib/python3.9/site-packages (from wandb) (1.0.13)\n",
      "Requirement already satisfied: pathtools in /workspaces/nd0821-c2-build-model-workflow-starter/venv/lib/python3.9/site-packages (from wandb) (0.1.2)\n",
      "Requirement already satisfied: gitdb<5,>=4.0.1 in /workspaces/nd0821-c2-build-model-workflow-starter/venv/lib/python3.9/site-packages (from GitPython>=1.0.0->wandb) (4.0.11)\n",
      "Requirement already satisfied: smmap<6,>=3.0.1 in /workspaces/nd0821-c2-build-model-workflow-starter/venv/lib/python3.9/site-packages (from gitdb<5,>=4.0.1->GitPython>=1.0.0->wandb) (5.0.0)\n",
      "Requirement already satisfied: idna<4,>=2.5 in /workspaces/nd0821-c2-build-model-workflow-starter/venv/lib/python3.9/site-packages (from requests<3,>=2.0.0->wandb) (3.7)\n",
      "Requirement already satisfied: certifi>=2017.4.17 in /workspaces/nd0821-c2-build-model-workflow-starter/venv/lib/python3.9/site-packages (from requests<3,>=2.0.0->wandb) (2024.6.2)\n",
      "Requirement already satisfied: charset-normalizer<4,>=2 in /workspaces/nd0821-c2-build-model-workflow-starter/venv/lib/python3.9/site-packages (from requests<3,>=2.0.0->wandb) (3.3.2)\n",
      "Requirement already satisfied: urllib3<3,>=1.21.1 in /workspaces/nd0821-c2-build-model-workflow-starter/venv/lib/python3.9/site-packages (from requests<3,>=2.0.0->wandb) (1.26.19)\n",
      "Note: you may need to restart the kernel to use updated packages.\n"
     ]
    }
   ],
   "source": [
    "pip install wandb"
   ]
  },
  {
   "cell_type": "code",
   "execution_count": 2,
   "id": "c5512df2-4b3f-4412-bb1e-857d3b9a6bdf",
   "metadata": {},
   "outputs": [
    {
     "name": "stdout",
     "output_type": "stream",
     "text": [
      "Requirement already satisfied: pandas in /workspaces/nd0821-c2-build-model-workflow-starter/venv/lib/python3.9/site-packages (2.2.2)\n",
      "Requirement already satisfied: pytz>=2020.1 in /workspaces/nd0821-c2-build-model-workflow-starter/venv/lib/python3.9/site-packages (from pandas) (2024.1)\n",
      "Requirement already satisfied: tzdata>=2022.7 in /workspaces/nd0821-c2-build-model-workflow-starter/venv/lib/python3.9/site-packages (from pandas) (2024.1)\n",
      "Requirement already satisfied: python-dateutil>=2.8.2 in /workspaces/nd0821-c2-build-model-workflow-starter/venv/lib/python3.9/site-packages (from pandas) (2.9.0)\n",
      "Requirement already satisfied: numpy>=1.22.4 in /workspaces/nd0821-c2-build-model-workflow-starter/venv/lib/python3.9/site-packages (from pandas) (1.26.4)\n",
      "Requirement already satisfied: six>=1.5 in /workspaces/nd0821-c2-build-model-workflow-starter/venv/lib/python3.9/site-packages (from python-dateutil>=2.8.2->pandas) (1.16.0)\n",
      "Note: you may need to restart the kernel to use updated packages.\n"
     ]
    }
   ],
   "source": [
    "pip install pandas"
   ]
  },
  {
   "cell_type": "code",
   "execution_count": 3,
   "id": "d0e854eb-5fa6-4ea8-91d7-46233bbfc52b",
   "metadata": {},
   "outputs": [
    {
     "name": "stdout",
     "output_type": "stream",
     "text": [
      "Requirement already satisfied: protobuf==3.20.3 in /workspaces/nd0821-c2-build-model-workflow-starter/venv/lib/python3.9/site-packages (3.20.3)\n"
     ]
    }
   ],
   "source": [
    "!pip install protobuf==3.20.3\n",
    "!export PROTOCOL_BUFFERS_PYTHON_IMPLEMENTATION=python"
   ]
  },
  {
   "cell_type": "code",
   "execution_count": 4,
   "id": "a1622912-2dee-4370-948a-a10e2e31dc9a",
   "metadata": {},
   "outputs": [
    {
     "name": "stdout",
     "output_type": "stream",
     "text": [
      "Requirement already satisfied: wandb==0.10.31 in /workspaces/nd0821-c2-build-model-workflow-starter/venv/lib/python3.9/site-packages (0.10.31)\n",
      "Requirement already satisfied: subprocess32>=3.5.3 in /workspaces/nd0821-c2-build-model-workflow-starter/venv/lib/python3.9/site-packages (from wandb==0.10.31) (3.5.4)\n",
      "Requirement already satisfied: sentry-sdk>=0.4.0 in /workspaces/nd0821-c2-build-model-workflow-starter/venv/lib/python3.9/site-packages (from wandb==0.10.31) (2.6.0)\n",
      "Requirement already satisfied: configparser>=3.8.1 in /workspaces/nd0821-c2-build-model-workflow-starter/venv/lib/python3.9/site-packages (from wandb==0.10.31) (7.0.0)\n",
      "Requirement already satisfied: requests<3,>=2.0.0 in /workspaces/nd0821-c2-build-model-workflow-starter/venv/lib/python3.9/site-packages (from wandb==0.10.31) (2.32.3)\n",
      "Requirement already satisfied: GitPython>=1.0.0 in /workspaces/nd0821-c2-build-model-workflow-starter/venv/lib/python3.9/site-packages (from wandb==0.10.31) (3.1.43)\n",
      "Requirement already satisfied: Click>=7.0 in /workspaces/nd0821-c2-build-model-workflow-starter/venv/lib/python3.9/site-packages (from wandb==0.10.31) (8.1.7)\n",
      "Requirement already satisfied: python-dateutil>=2.6.1 in /workspaces/nd0821-c2-build-model-workflow-starter/venv/lib/python3.9/site-packages (from wandb==0.10.31) (2.9.0)\n",
      "Requirement already satisfied: promise<3,>=2.0 in /workspaces/nd0821-c2-build-model-workflow-starter/venv/lib/python3.9/site-packages (from wandb==0.10.31) (2.3)\n",
      "Requirement already satisfied: pathtools in /workspaces/nd0821-c2-build-model-workflow-starter/venv/lib/python3.9/site-packages (from wandb==0.10.31) (0.1.2)\n",
      "Requirement already satisfied: shortuuid>=0.5.0 in /workspaces/nd0821-c2-build-model-workflow-starter/venv/lib/python3.9/site-packages (from wandb==0.10.31) (1.0.13)\n",
      "Requirement already satisfied: docker-pycreds>=0.4.0 in /workspaces/nd0821-c2-build-model-workflow-starter/venv/lib/python3.9/site-packages (from wandb==0.10.31) (0.4.0)\n",
      "Requirement already satisfied: psutil>=5.0.0 in /workspaces/nd0821-c2-build-model-workflow-starter/venv/lib/python3.9/site-packages (from wandb==0.10.31) (6.0.0)\n",
      "Requirement already satisfied: protobuf>=3.12.0 in /workspaces/nd0821-c2-build-model-workflow-starter/venv/lib/python3.9/site-packages (from wandb==0.10.31) (3.20.3)\n",
      "Requirement already satisfied: six>=1.13.0 in /workspaces/nd0821-c2-build-model-workflow-starter/venv/lib/python3.9/site-packages (from wandb==0.10.31) (1.16.0)\n",
      "Requirement already satisfied: PyYAML in /workspaces/nd0821-c2-build-model-workflow-starter/venv/lib/python3.9/site-packages (from wandb==0.10.31) (6.0.1)\n",
      "Requirement already satisfied: gitdb<5,>=4.0.1 in /workspaces/nd0821-c2-build-model-workflow-starter/venv/lib/python3.9/site-packages (from GitPython>=1.0.0->wandb==0.10.31) (4.0.11)\n",
      "Requirement already satisfied: smmap<6,>=3.0.1 in /workspaces/nd0821-c2-build-model-workflow-starter/venv/lib/python3.9/site-packages (from gitdb<5,>=4.0.1->GitPython>=1.0.0->wandb==0.10.31) (5.0.0)\n",
      "Requirement already satisfied: charset-normalizer<4,>=2 in /workspaces/nd0821-c2-build-model-workflow-starter/venv/lib/python3.9/site-packages (from requests<3,>=2.0.0->wandb==0.10.31) (3.3.2)\n",
      "Requirement already satisfied: urllib3<3,>=1.21.1 in /workspaces/nd0821-c2-build-model-workflow-starter/venv/lib/python3.9/site-packages (from requests<3,>=2.0.0->wandb==0.10.31) (1.26.19)\n",
      "Requirement already satisfied: certifi>=2017.4.17 in /workspaces/nd0821-c2-build-model-workflow-starter/venv/lib/python3.9/site-packages (from requests<3,>=2.0.0->wandb==0.10.31) (2024.6.2)\n",
      "Requirement already satisfied: idna<4,>=2.5 in /workspaces/nd0821-c2-build-model-workflow-starter/venv/lib/python3.9/site-packages (from requests<3,>=2.0.0->wandb==0.10.31) (3.7)\n",
      "Note: you may need to restart the kernel to use updated packages.\n"
     ]
    }
   ],
   "source": [
    "pip install wandb==0.10.31"
   ]
  },
  {
   "cell_type": "code",
   "execution_count": 2,
   "id": "850f92f6",
   "metadata": {},
   "outputs": [
    {
     "name": "stderr",
     "output_type": "stream",
     "text": [
      "Failed to detect the name of this notebook, you can set it manually with the WANDB_NOTEBOOK_NAME environment variable to enable code saving.\n",
      "\u001b[34m\u001b[1mwandb\u001b[0m: Currently logged in as: \u001b[33mmarwaelsherrif\u001b[0m (use `wandb login --relogin` to force relogin)\n",
      "/workspaces/nd0821-c2-build-model-workflow-starter/venv/lib/python3.9/site-packages/IPython/html.py:12: ShimWarning: The `IPython.html` package has been deprecated since IPython 4.0. You should import from `notebook` instead. `IPython.html.widgets` has moved to `ipywidgets`.\n",
      "  warn(\"The `IPython.html` package has been deprecated since IPython 4.0. \"\n",
      "\u001b[34m\u001b[1mwandb\u001b[0m: wandb version 0.17.2 is available!  To upgrade, please run:\n",
      "\u001b[34m\u001b[1mwandb\u001b[0m:  $ pip install wandb --upgrade\n"
     ]
    },
    {
     "data": {
      "text/html": [
       "\n",
       "                Tracking run with wandb version 0.10.31<br/>\n",
       "                Syncing run <strong style=\"color:#cdcd00\">toasty-hill-76</strong> to <a href=\"https://wandb.ai\" target=\"_blank\">Weights & Biases</a> <a href=\"https://docs.wandb.com/integrations/jupyter.html\" target=\"_blank\">(Documentation)</a>.<br/>\n",
       "                Project page: <a href=\"https://wandb.ai/marwaelsherrif/nyc_airbnb\" target=\"_blank\">https://wandb.ai/marwaelsherrif/nyc_airbnb</a><br/>\n",
       "                Run page: <a href=\"https://wandb.ai/marwaelsherrif/nyc_airbnb/runs/12ysei2o\" target=\"_blank\">https://wandb.ai/marwaelsherrif/nyc_airbnb/runs/12ysei2o</a><br/>\n",
       "                Run data is saved locally in <code>/workspaces/nd0821-c2-build-model-workflow-starter/nd0821-c2-build-model-workflow-starter/src/eda/wandb/run-20240620_170703-12ysei2o</code><br/><br/>\n",
       "            "
      ],
      "text/plain": [
       "<IPython.core.display.HTML object>"
      ]
     },
     "metadata": {},
     "output_type": "display_data"
    }
   ],
   "source": [
    "import wandb\n",
    "import pandas as pd\n",
    "\n",
    "run = wandb.init(project=\"nyc_airbnb\", group=\"eda\", save_code=True)\n",
    "local_path = wandb.use_artifact(\"sample.csv:latest\").file()\n",
    "df = pd.read_csv(local_path)"
   ]
  },
  {
   "cell_type": "code",
   "execution_count": 7,
   "id": "95697d05",
   "metadata": {},
   "outputs": [
    {
     "name": "stdout",
     "output_type": "stream",
     "text": [
      "Collecting pandas-profiling\n",
      "  Downloading pandas_profiling-3.6.6-py2.py3-none-any.whl (324 kB)\n",
      "\u001b[K     |████████████████████████████████| 324 kB 20.3 MB/s eta 0:00:01\n",
      "\u001b[?25hCollecting ydata-profiling\n",
      "  Downloading ydata_profiling-4.8.3-py2.py3-none-any.whl (359 kB)\n",
      "\u001b[K     |████████████████████████████████| 359 kB 49.0 MB/s eta 0:00:01\n",
      "\u001b[?25hRequirement already satisfied: PyYAML<6.1,>=5.0.0 in /workspaces/nd0821-c2-build-model-workflow-starter/venv/lib/python3.9/site-packages (from ydata-profiling->pandas-profiling) (6.0.1)\n",
      "Requirement already satisfied: jinja2<3.2,>=2.11.1 in /workspaces/nd0821-c2-build-model-workflow-starter/venv/lib/python3.9/site-packages (from ydata-profiling->pandas-profiling) (2.11.3)\n",
      "Requirement already satisfied: requests<3,>=2.24.0 in /workspaces/nd0821-c2-build-model-workflow-starter/venv/lib/python3.9/site-packages (from ydata-profiling->pandas-profiling) (2.32.3)\n",
      "Requirement already satisfied: pandas!=1.4.0,<3,>1.1 in /workspaces/nd0821-c2-build-model-workflow-starter/venv/lib/python3.9/site-packages (from ydata-profiling->pandas-profiling) (1.2.3)\n",
      "Requirement already satisfied: numpy<2,>=1.16.0 in /workspaces/nd0821-c2-build-model-workflow-starter/venv/lib/python3.9/site-packages (from ydata-profiling->pandas-profiling) (1.26.4)\n",
      "Requirement already satisfied: matplotlib<3.9,>=3.2 in /workspaces/nd0821-c2-build-model-workflow-starter/venv/lib/python3.9/site-packages (from ydata-profiling->pandas-profiling) (3.3.4)\n",
      "Collecting htmlmin==0.1.12\n",
      "  Downloading htmlmin-0.1.12.tar.gz (19 kB)\n",
      "Collecting imagehash==4.3.1\n",
      "  Downloading ImageHash-4.3.1-py2.py3-none-any.whl (296 kB)\n",
      "\u001b[K     |████████████████████████████████| 296 kB 67.1 MB/s eta 0:00:01\n",
      "\u001b[?25hRequirement already satisfied: pillow in /workspaces/nd0821-c2-build-model-workflow-starter/venv/lib/python3.9/site-packages (from imagehash==4.3.1->ydata-profiling->pandas-profiling) (9.4.0)\n",
      "Collecting dacite>=1.8\n",
      "  Downloading dacite-1.8.1-py3-none-any.whl (14 kB)\n",
      "Requirement already satisfied: MarkupSafe>=0.23 in /workspaces/nd0821-c2-build-model-workflow-starter/venv/lib/python3.9/site-packages (from jinja2<3.2,>=2.11.1->ydata-profiling->pandas-profiling) (1.1.1)\n",
      "Requirement already satisfied: cycler>=0.10 in /workspaces/nd0821-c2-build-model-workflow-starter/venv/lib/python3.9/site-packages (from matplotlib<3.9,>=3.2->ydata-profiling->pandas-profiling) (0.12.1)\n",
      "Requirement already satisfied: pyparsing!=2.0.4,!=2.1.2,!=2.1.6,>=2.0.3 in /workspaces/nd0821-c2-build-model-workflow-starter/venv/lib/python3.9/site-packages (from matplotlib<3.9,>=3.2->ydata-profiling->pandas-profiling) (3.1.2)\n",
      "Requirement already satisfied: python-dateutil>=2.1 in /workspaces/nd0821-c2-build-model-workflow-starter/venv/lib/python3.9/site-packages (from matplotlib<3.9,>=3.2->ydata-profiling->pandas-profiling) (2.9.0)\n",
      "Requirement already satisfied: kiwisolver>=1.0.1 in /workspaces/nd0821-c2-build-model-workflow-starter/venv/lib/python3.9/site-packages (from matplotlib<3.9,>=3.2->ydata-profiling->pandas-profiling) (1.4.5)\n",
      "Collecting multimethod<2,>=1.4\n",
      "  Downloading multimethod-1.11.2-py3-none-any.whl (10 kB)\n",
      "Collecting numba<1,>=0.56.0\n",
      "  Downloading numba-0.60.0-cp39-cp39-manylinux2014_x86_64.manylinux_2_17_x86_64.whl (3.7 MB)\n",
      "\u001b[K     |████████████████████████████████| 3.7 MB 44.6 MB/s eta 0:00:01\n",
      "\u001b[?25hCollecting llvmlite<0.44,>=0.43.0dev0\n",
      "  Downloading llvmlite-0.43.0-cp39-cp39-manylinux_2_17_x86_64.manylinux2014_x86_64.whl (43.9 MB)\n",
      "\u001b[K     |████████████████████████████████| 43.9 MB 1.0 MB/s eta 0:00:011 MB 73.0 MB/s eta 0:00:01��█████████████████          | 30.3 MB 73.0 MB/s eta 0:00:01s eta 0:00:01██████████        | 32.9 MB 73.0 MB/s eta 0:00:01�█████████▉       | 34.1 MB 73.0 MB/s eta 0:00:010:00:01��██████████████████▍     | 36.2 MB 73.0 MB/s eta 0:00:011�▋    | 37.8 MB 73.0 MB/s eta 0:00:01�████████████████▎   | 38.8 MB 73.0 MB/s eta 0:00:01 1.0 MB/s eta 0:00:04\n",
      "\u001b[?25hRequirement already satisfied: pytz>=2017.3 in /workspaces/nd0821-c2-build-model-workflow-starter/venv/lib/python3.9/site-packages (from pandas!=1.4.0,<3,>1.1->ydata-profiling->pandas-profiling) (2024.1)\n",
      "Collecting phik<0.13,>=0.11.1\n",
      "  Downloading phik-0.12.4-cp39-cp39-manylinux_2_17_x86_64.manylinux2014_x86_64.whl (686 kB)\n",
      "\u001b[K     |████████████████████████████████| 686 kB 84.5 MB/s eta 0:00:01\n",
      "\u001b[?25hCollecting joblib>=0.14.1\n",
      "  Using cached joblib-1.4.2-py3-none-any.whl (301 kB)\n",
      "Collecting pydantic>=2\n",
      "  Downloading pydantic-2.7.4-py3-none-any.whl (409 kB)\n",
      "\u001b[K     |████████████████████████████████| 409 kB 69.6 MB/s eta 0:00:01\n",
      "\u001b[?25hRequirement already satisfied: typing-extensions>=4.6.1 in /workspaces/nd0821-c2-build-model-workflow-starter/venv/lib/python3.9/site-packages (from pydantic>=2->ydata-profiling->pandas-profiling) (4.12.2)\n",
      "Collecting pydantic-core==2.18.4\n",
      "  Downloading pydantic_core-2.18.4-cp39-cp39-manylinux_2_17_x86_64.manylinux2014_x86_64.whl (2.0 MB)\n",
      "\u001b[K     |████████████████████████████████| 2.0 MB 68.4 MB/s eta 0:00:01\n",
      "\u001b[?25hCollecting annotated-types>=0.4.0\n",
      "  Downloading annotated_types-0.7.0-py3-none-any.whl (13 kB)\n",
      "Requirement already satisfied: six>=1.5 in /workspaces/nd0821-c2-build-model-workflow-starter/venv/lib/python3.9/site-packages (from python-dateutil>=2.1->matplotlib<3.9,>=3.2->ydata-profiling->pandas-profiling) (1.16.0)\n",
      "Requirement already satisfied: charset-normalizer<4,>=2 in /workspaces/nd0821-c2-build-model-workflow-starter/venv/lib/python3.9/site-packages (from requests<3,>=2.24.0->ydata-profiling->pandas-profiling) (3.3.2)\n",
      "Requirement already satisfied: urllib3<3,>=1.21.1 in /workspaces/nd0821-c2-build-model-workflow-starter/venv/lib/python3.9/site-packages (from requests<3,>=2.24.0->ydata-profiling->pandas-profiling) (1.26.19)\n",
      "Requirement already satisfied: idna<4,>=2.5 in /workspaces/nd0821-c2-build-model-workflow-starter/venv/lib/python3.9/site-packages (from requests<3,>=2.24.0->ydata-profiling->pandas-profiling) (3.7)\n",
      "Requirement already satisfied: certifi>=2017.4.17 in /workspaces/nd0821-c2-build-model-workflow-starter/venv/lib/python3.9/site-packages (from requests<3,>=2.24.0->ydata-profiling->pandas-profiling) (2024.6.2)\n",
      "Collecting scipy<1.14,>=1.4.1\n",
      "  Using cached scipy-1.13.1-cp39-cp39-manylinux_2_17_x86_64.manylinux2014_x86_64.whl (38.6 MB)\n",
      "Collecting seaborn<0.14,>=0.10.1\n",
      "  Downloading seaborn-0.13.2-py3-none-any.whl (294 kB)\n",
      "\u001b[K     |████████████████████████████████| 294 kB 74.0 MB/s eta 0:00:01\n",
      "\u001b[?25hCollecting matplotlib<3.9,>=3.2\n",
      "  Downloading matplotlib-3.8.4-cp39-cp39-manylinux_2_17_x86_64.manylinux2014_x86_64.whl (11.6 MB)\n",
      "\u001b[K     |████████████████████████████████| 11.6 MB 53.2 MB/s eta 0:00:01\n",
      "\u001b[?25hRequirement already satisfied: importlib-resources>=3.2.0 in /workspaces/nd0821-c2-build-model-workflow-starter/venv/lib/python3.9/site-packages (from matplotlib<3.9,>=3.2->ydata-profiling->pandas-profiling) (6.4.0)\n",
      "Requirement already satisfied: packaging>=20.0 in /workspaces/nd0821-c2-build-model-workflow-starter/venv/lib/python3.9/site-packages (from matplotlib<3.9,>=3.2->ydata-profiling->pandas-profiling) (24.1)\n",
      "Collecting contourpy>=1.0.1\n",
      "  Using cached contourpy-1.2.1-cp39-cp39-manylinux_2_17_x86_64.manylinux2014_x86_64.whl (304 kB)\n",
      "Collecting fonttools>=4.22.0\n",
      "  Using cached fonttools-4.53.0-cp39-cp39-manylinux_2_17_x86_64.manylinux2014_x86_64.whl (4.6 MB)\n",
      "Requirement already satisfied: zipp>=3.1.0 in /workspaces/nd0821-c2-build-model-workflow-starter/venv/lib/python3.9/site-packages (from importlib-resources>=3.2.0->matplotlib<3.9,>=3.2->ydata-profiling->pandas-profiling) (3.19.2)\n",
      "Collecting statsmodels<1,>=0.13.2\n",
      "  Downloading statsmodels-0.14.2-cp39-cp39-manylinux_2_17_x86_64.manylinux2014_x86_64.whl (10.8 MB)\n",
      "\u001b[K     |████████████████████████████████| 10.8 MB 59.3 MB/s eta 0:00:01████▉        | 8.0 MB 59.3 MB/s eta 0:00:01�██▏    | 9.2 MB 59.3 MB/s eta 0:00:01\n",
      "\u001b[?25hCollecting pandas!=1.4.0,<3,>1.1\n",
      "  Downloading pandas-2.2.2-cp39-cp39-manylinux_2_17_x86_64.manylinux2014_x86_64.whl (13.1 MB)\n",
      "\u001b[K     |████████████████████████████████| 13.1 MB 81.8 MB/s eta 0:00:01\n",
      "\u001b[?25hCollecting patsy>=0.5.6\n",
      "  Downloading patsy-0.5.6-py2.py3-none-any.whl (233 kB)\n",
      "\u001b[K     |████████████████████████████████| 233 kB 78.3 MB/s eta 0:00:01\n",
      "\u001b[?25hCollecting tqdm<5,>=4.48.2\n",
      "  Downloading tqdm-4.66.4-py3-none-any.whl (78 kB)\n",
      "\u001b[K     |████████████████████████████████| 78 kB 1.9 MB/s  eta 0:00:01\n",
      "\u001b[?25hCollecting typeguard<5,>=3\n",
      "  Downloading typeguard-4.3.0-py3-none-any.whl (35 kB)\n",
      "Requirement already satisfied: importlib-metadata>=3.6 in /workspaces/nd0821-c2-build-model-workflow-starter/venv/lib/python3.9/site-packages (from typeguard<5,>=3->ydata-profiling->pandas-profiling) (7.1.0)\n",
      "Collecting tzdata>=2022.7\n",
      "  Downloading tzdata-2024.1-py2.py3-none-any.whl (345 kB)\n",
      "\u001b[K     |████████████████████████████████| 345 kB 53.1 MB/s eta 0:00:01\n",
      "\u001b[?25hCollecting visions[type_image_path]<0.7.7,>=0.7.5\n",
      "  Downloading visions-0.7.6-py3-none-any.whl (104 kB)\n",
      "\u001b[K     |████████████████████████████████| 104 kB 74.3 MB/s eta 0:00:01\n",
      "\u001b[?25hRequirement already satisfied: attrs>=19.3.0 in /workspaces/nd0821-c2-build-model-workflow-starter/venv/lib/python3.9/site-packages (from visions[type_image_path]<0.7.7,>=0.7.5->ydata-profiling->pandas-profiling) (23.2.0)\n",
      "Collecting networkx>=2.4\n",
      "  Downloading networkx-3.2.1-py3-none-any.whl (1.6 MB)\n",
      "\u001b[K     |████████████████████████████████| 1.6 MB 53.9 MB/s eta 0:00:01\n",
      "\u001b[?25hCollecting wordcloud>=1.9.1\n",
      "  Downloading wordcloud-1.9.3-cp39-cp39-manylinux_2_17_x86_64.manylinux2014_x86_64.whl (513 kB)\n",
      "\u001b[K     |████████████████████████████████| 513 kB 66.1 MB/s eta 0:00:01\n",
      "\u001b[?25hCollecting PyWavelets\n",
      "  Downloading pywavelets-1.6.0-cp39-cp39-manylinux_2_17_x86_64.manylinux2014_x86_64.whl (4.5 MB)\n",
      "\u001b[K     |████████████████████████████████| 4.5 MB 49.2 MB/s eta 0:00:01\n",
      "\u001b[?25hBuilding wheels for collected packages: htmlmin\n",
      "  Building wheel for htmlmin (setup.py) ... \u001b[?25ldone\n",
      "\u001b[?25h  Created wheel for htmlmin: filename=htmlmin-0.1.12-py3-none-any.whl size=27097 sha256=f1fd98b19718a7c8860cc5dbd5879aa38aaf917ae822c149ff94fc2417f56318\n",
      "  Stored in directory: /home/codespace/.cache/pip/wheels/1d/05/04/c6d7d3b66539d9e659ac6dfe81e2d0fd4c1a8316cc5a403300\n",
      "Successfully built htmlmin\n",
      "Installing collected packages: tzdata, scipy, PyWavelets, pandas, networkx, multimethod, fonttools, contourpy, visions, pydantic-core, patsy, matplotlib, llvmlite, joblib, imagehash, annotated-types, wordcloud, typeguard, tqdm, statsmodels, seaborn, pydantic, phik, numba, htmlmin, dacite, ydata-profiling, pandas-profiling\n",
      "  Attempting uninstall: pandas\n",
      "    Found existing installation: pandas 1.2.3\n",
      "    Uninstalling pandas-1.2.3:\n",
      "      Successfully uninstalled pandas-1.2.3\n",
      "  Attempting uninstall: matplotlib\n",
      "    Found existing installation: matplotlib 3.3.4\n",
      "    Uninstalling matplotlib-3.3.4:\n",
      "      Successfully uninstalled matplotlib-3.3.4\n",
      "Successfully installed PyWavelets-1.6.0 annotated-types-0.7.0 contourpy-1.2.1 dacite-1.8.1 fonttools-4.53.0 htmlmin-0.1.12 imagehash-4.3.1 joblib-1.4.2 llvmlite-0.43.0 matplotlib-3.8.4 multimethod-1.11.2 networkx-3.2.1 numba-0.60.0 pandas-2.2.2 pandas-profiling-3.6.6 patsy-0.5.6 phik-0.12.4 pydantic-2.7.4 pydantic-core-2.18.4 scipy-1.13.1 seaborn-0.13.2 statsmodels-0.14.2 tqdm-4.66.4 typeguard-4.3.0 tzdata-2024.1 visions-0.7.6 wordcloud-1.9.3 ydata-profiling-4.8.3\n",
      "Note: you may need to restart the kernel to use updated packages.\n"
     ]
    }
   ],
   "source": [
    "pip install pandas-profiling"
   ]
  },
  {
   "cell_type": "code",
   "execution_count": 7,
   "id": "b3a3edf6",
   "metadata": {},
   "outputs": [
    {
     "name": "stdout",
     "output_type": "stream",
     "text": [
      "Collecting pydantic-settings\n",
      "  Downloading pydantic_settings-2.3.3-py3-none-any.whl (22 kB)\n",
      "Requirement already satisfied: pydantic>=2.7.0 in /workspaces/nd0821-c2-build-model-workflow-starter/venv/lib/python3.9/site-packages (from pydantic-settings) (2.7.4)\n",
      "Requirement already satisfied: pydantic-core==2.18.4 in /workspaces/nd0821-c2-build-model-workflow-starter/venv/lib/python3.9/site-packages (from pydantic>=2.7.0->pydantic-settings) (2.18.4)\n",
      "Requirement already satisfied: typing-extensions>=4.6.1 in /workspaces/nd0821-c2-build-model-workflow-starter/venv/lib/python3.9/site-packages (from pydantic>=2.7.0->pydantic-settings) (4.12.2)\n",
      "Requirement already satisfied: annotated-types>=0.4.0 in /workspaces/nd0821-c2-build-model-workflow-starter/venv/lib/python3.9/site-packages (from pydantic>=2.7.0->pydantic-settings) (0.7.0)\n",
      "Collecting python-dotenv>=0.21.0\n",
      "  Downloading python_dotenv-1.0.1-py3-none-any.whl (19 kB)\n",
      "Installing collected packages: python-dotenv, pydantic-settings\n",
      "Successfully installed pydantic-settings-2.3.3 python-dotenv-1.0.1\n",
      "Note: you may need to restart the kernel to use updated packages.\n"
     ]
    }
   ],
   "source": [
    "pip install pydantic-settings\n"
   ]
  },
  {
   "cell_type": "code",
   "execution_count": 14,
   "id": "0ea625b3",
   "metadata": {},
   "outputs": [
    {
     "name": "stdout",
     "output_type": "stream",
     "text": [
      "Requirement already satisfied: pandas-profiling in /workspaces/nd0821-c2-build-model-workflow-starter/venv/lib/python3.9/site-packages (3.6.6)\n",
      "Requirement already satisfied: ydata-profiling in /workspaces/nd0821-c2-build-model-workflow-starter/venv/lib/python3.9/site-packages (from pandas-profiling) (4.8.3)\n",
      "Requirement already satisfied: imagehash==4.3.1 in /workspaces/nd0821-c2-build-model-workflow-starter/venv/lib/python3.9/site-packages (from ydata-profiling->pandas-profiling) (4.3.1)\n",
      "Requirement already satisfied: dacite>=1.8 in /workspaces/nd0821-c2-build-model-workflow-starter/venv/lib/python3.9/site-packages (from ydata-profiling->pandas-profiling) (1.8.1)\n",
      "Requirement already satisfied: tqdm<5,>=4.48.2 in /workspaces/nd0821-c2-build-model-workflow-starter/venv/lib/python3.9/site-packages (from ydata-profiling->pandas-profiling) (4.66.4)\n",
      "Requirement already satisfied: typeguard<5,>=3 in /workspaces/nd0821-c2-build-model-workflow-starter/venv/lib/python3.9/site-packages (from ydata-profiling->pandas-profiling) (4.3.0)\n",
      "Requirement already satisfied: multimethod<2,>=1.4 in /workspaces/nd0821-c2-build-model-workflow-starter/venv/lib/python3.9/site-packages (from ydata-profiling->pandas-profiling) (1.11.2)\n",
      "Requirement already satisfied: statsmodels<1,>=0.13.2 in /workspaces/nd0821-c2-build-model-workflow-starter/venv/lib/python3.9/site-packages (from ydata-profiling->pandas-profiling) (0.14.2)\n",
      "Requirement already satisfied: visions[type_image_path]<0.7.7,>=0.7.5 in /workspaces/nd0821-c2-build-model-workflow-starter/venv/lib/python3.9/site-packages (from ydata-profiling->pandas-profiling) (0.7.6)\n",
      "Requirement already satisfied: requests<3,>=2.24.0 in /workspaces/nd0821-c2-build-model-workflow-starter/venv/lib/python3.9/site-packages (from ydata-profiling->pandas-profiling) (2.32.3)\n",
      "Requirement already satisfied: pydantic>=2 in /workspaces/nd0821-c2-build-model-workflow-starter/venv/lib/python3.9/site-packages (from ydata-profiling->pandas-profiling) (2.7.4)\n",
      "Requirement already satisfied: jinja2<3.2,>=2.11.1 in /workspaces/nd0821-c2-build-model-workflow-starter/venv/lib/python3.9/site-packages (from ydata-profiling->pandas-profiling) (2.11.3)\n",
      "Requirement already satisfied: matplotlib<3.9,>=3.2 in /workspaces/nd0821-c2-build-model-workflow-starter/venv/lib/python3.9/site-packages (from ydata-profiling->pandas-profiling) (3.8.4)\n",
      "Requirement already satisfied: htmlmin==0.1.12 in /workspaces/nd0821-c2-build-model-workflow-starter/venv/lib/python3.9/site-packages (from ydata-profiling->pandas-profiling) (0.1.12)\n",
      "Requirement already satisfied: pandas!=1.4.0,<3,>1.1 in /workspaces/nd0821-c2-build-model-workflow-starter/venv/lib/python3.9/site-packages (from ydata-profiling->pandas-profiling) (2.2.2)\n",
      "Requirement already satisfied: seaborn<0.14,>=0.10.1 in /workspaces/nd0821-c2-build-model-workflow-starter/venv/lib/python3.9/site-packages (from ydata-profiling->pandas-profiling) (0.13.2)\n",
      "Requirement already satisfied: wordcloud>=1.9.1 in /workspaces/nd0821-c2-build-model-workflow-starter/venv/lib/python3.9/site-packages (from ydata-profiling->pandas-profiling) (1.9.3)\n",
      "Requirement already satisfied: numpy<2,>=1.16.0 in /workspaces/nd0821-c2-build-model-workflow-starter/venv/lib/python3.9/site-packages (from ydata-profiling->pandas-profiling) (1.26.4)\n",
      "Requirement already satisfied: scipy<1.14,>=1.4.1 in /workspaces/nd0821-c2-build-model-workflow-starter/venv/lib/python3.9/site-packages (from ydata-profiling->pandas-profiling) (1.13.1)\n",
      "Requirement already satisfied: phik<0.13,>=0.11.1 in /workspaces/nd0821-c2-build-model-workflow-starter/venv/lib/python3.9/site-packages (from ydata-profiling->pandas-profiling) (0.12.4)\n",
      "Requirement already satisfied: PyYAML<6.1,>=5.0.0 in /workspaces/nd0821-c2-build-model-workflow-starter/venv/lib/python3.9/site-packages (from ydata-profiling->pandas-profiling) (6.0.1)\n",
      "Requirement already satisfied: numba<1,>=0.56.0 in /workspaces/nd0821-c2-build-model-workflow-starter/venv/lib/python3.9/site-packages (from ydata-profiling->pandas-profiling) (0.60.0)\n",
      "Requirement already satisfied: PyWavelets in /workspaces/nd0821-c2-build-model-workflow-starter/venv/lib/python3.9/site-packages (from imagehash==4.3.1->ydata-profiling->pandas-profiling) (1.6.0)\n",
      "Requirement already satisfied: pillow in /workspaces/nd0821-c2-build-model-workflow-starter/venv/lib/python3.9/site-packages (from imagehash==4.3.1->ydata-profiling->pandas-profiling) (9.4.0)\n",
      "Requirement already satisfied: MarkupSafe>=0.23 in /workspaces/nd0821-c2-build-model-workflow-starter/venv/lib/python3.9/site-packages (from jinja2<3.2,>=2.11.1->ydata-profiling->pandas-profiling) (1.1.1)\n",
      "Requirement already satisfied: contourpy>=1.0.1 in /workspaces/nd0821-c2-build-model-workflow-starter/venv/lib/python3.9/site-packages (from matplotlib<3.9,>=3.2->ydata-profiling->pandas-profiling) (1.2.1)\n",
      "Requirement already satisfied: importlib-resources>=3.2.0 in /workspaces/nd0821-c2-build-model-workflow-starter/venv/lib/python3.9/site-packages (from matplotlib<3.9,>=3.2->ydata-profiling->pandas-profiling) (6.4.0)\n",
      "Requirement already satisfied: python-dateutil>=2.7 in /workspaces/nd0821-c2-build-model-workflow-starter/venv/lib/python3.9/site-packages (from matplotlib<3.9,>=3.2->ydata-profiling->pandas-profiling) (2.9.0)\n",
      "Requirement already satisfied: fonttools>=4.22.0 in /workspaces/nd0821-c2-build-model-workflow-starter/venv/lib/python3.9/site-packages (from matplotlib<3.9,>=3.2->ydata-profiling->pandas-profiling) (4.53.0)\n",
      "Requirement already satisfied: kiwisolver>=1.3.1 in /workspaces/nd0821-c2-build-model-workflow-starter/venv/lib/python3.9/site-packages (from matplotlib<3.9,>=3.2->ydata-profiling->pandas-profiling) (1.4.5)\n",
      "Requirement already satisfied: pyparsing>=2.3.1 in /workspaces/nd0821-c2-build-model-workflow-starter/venv/lib/python3.9/site-packages (from matplotlib<3.9,>=3.2->ydata-profiling->pandas-profiling) (3.1.2)\n",
      "Requirement already satisfied: packaging>=20.0 in /workspaces/nd0821-c2-build-model-workflow-starter/venv/lib/python3.9/site-packages (from matplotlib<3.9,>=3.2->ydata-profiling->pandas-profiling) (24.1)\n",
      "Requirement already satisfied: cycler>=0.10 in /workspaces/nd0821-c2-build-model-workflow-starter/venv/lib/python3.9/site-packages (from matplotlib<3.9,>=3.2->ydata-profiling->pandas-profiling) (0.12.1)\n",
      "Requirement already satisfied: zipp>=3.1.0 in /workspaces/nd0821-c2-build-model-workflow-starter/venv/lib/python3.9/site-packages (from importlib-resources>=3.2.0->matplotlib<3.9,>=3.2->ydata-profiling->pandas-profiling) (3.19.2)\n",
      "Requirement already satisfied: llvmlite<0.44,>=0.43.0dev0 in /workspaces/nd0821-c2-build-model-workflow-starter/venv/lib/python3.9/site-packages (from numba<1,>=0.56.0->ydata-profiling->pandas-profiling) (0.43.0)\n",
      "Requirement already satisfied: pytz>=2020.1 in /workspaces/nd0821-c2-build-model-workflow-starter/venv/lib/python3.9/site-packages (from pandas!=1.4.0,<3,>1.1->ydata-profiling->pandas-profiling) (2024.1)\n",
      "Requirement already satisfied: tzdata>=2022.7 in /workspaces/nd0821-c2-build-model-workflow-starter/venv/lib/python3.9/site-packages (from pandas!=1.4.0,<3,>1.1->ydata-profiling->pandas-profiling) (2024.1)\n",
      "Requirement already satisfied: joblib>=0.14.1 in /workspaces/nd0821-c2-build-model-workflow-starter/venv/lib/python3.9/site-packages (from phik<0.13,>=0.11.1->ydata-profiling->pandas-profiling) (1.4.2)\n",
      "Requirement already satisfied: pydantic-core==2.18.4 in /workspaces/nd0821-c2-build-model-workflow-starter/venv/lib/python3.9/site-packages (from pydantic>=2->ydata-profiling->pandas-profiling) (2.18.4)\n",
      "Requirement already satisfied: annotated-types>=0.4.0 in /workspaces/nd0821-c2-build-model-workflow-starter/venv/lib/python3.9/site-packages (from pydantic>=2->ydata-profiling->pandas-profiling) (0.7.0)\n",
      "Requirement already satisfied: typing-extensions>=4.6.1 in /workspaces/nd0821-c2-build-model-workflow-starter/venv/lib/python3.9/site-packages (from pydantic>=2->ydata-profiling->pandas-profiling) (4.12.2)\n",
      "Requirement already satisfied: six>=1.5 in /workspaces/nd0821-c2-build-model-workflow-starter/venv/lib/python3.9/site-packages (from python-dateutil>=2.7->matplotlib<3.9,>=3.2->ydata-profiling->pandas-profiling) (1.16.0)\n",
      "Requirement already satisfied: certifi>=2017.4.17 in /workspaces/nd0821-c2-build-model-workflow-starter/venv/lib/python3.9/site-packages (from requests<3,>=2.24.0->ydata-profiling->pandas-profiling) (2024.6.2)\n",
      "Requirement already satisfied: charset-normalizer<4,>=2 in /workspaces/nd0821-c2-build-model-workflow-starter/venv/lib/python3.9/site-packages (from requests<3,>=2.24.0->ydata-profiling->pandas-profiling) (3.3.2)\n",
      "Requirement already satisfied: idna<4,>=2.5 in /workspaces/nd0821-c2-build-model-workflow-starter/venv/lib/python3.9/site-packages (from requests<3,>=2.24.0->ydata-profiling->pandas-profiling) (3.7)\n",
      "Requirement already satisfied: urllib3<3,>=1.21.1 in /workspaces/nd0821-c2-build-model-workflow-starter/venv/lib/python3.9/site-packages (from requests<3,>=2.24.0->ydata-profiling->pandas-profiling) (1.26.19)\n",
      "Requirement already satisfied: patsy>=0.5.6 in /workspaces/nd0821-c2-build-model-workflow-starter/venv/lib/python3.9/site-packages (from statsmodels<1,>=0.13.2->ydata-profiling->pandas-profiling) (0.5.6)\n",
      "Requirement already satisfied: importlib-metadata>=3.6 in /workspaces/nd0821-c2-build-model-workflow-starter/venv/lib/python3.9/site-packages (from typeguard<5,>=3->ydata-profiling->pandas-profiling) (7.1.0)\n",
      "Requirement already satisfied: networkx>=2.4 in /workspaces/nd0821-c2-build-model-workflow-starter/venv/lib/python3.9/site-packages (from visions[type_image_path]<0.7.7,>=0.7.5->ydata-profiling->pandas-profiling) (3.2.1)\n",
      "Requirement already satisfied: attrs>=19.3.0 in /workspaces/nd0821-c2-build-model-workflow-starter/venv/lib/python3.9/site-packages (from visions[type_image_path]<0.7.7,>=0.7.5->ydata-profiling->pandas-profiling) (23.2.0)\n"
     ]
    }
   ],
   "source": [
    "from pydantic_settings import BaseSettings\n",
    "!pip install --upgrade pandas-profiling\n",
    "\n"
   ]
  },
  {
   "cell_type": "code",
   "execution_count": 15,
   "id": "3e31aa01-bd10-4a8c-b54c-818a6690da29",
   "metadata": {},
   "outputs": [
    {
     "ename": "PydanticImportError",
     "evalue": "`BaseSettings` has been moved to the `pydantic-settings` package. See https://docs.pydantic.dev/2.7/migration/#basesettings-has-moved-to-pydantic-settings for more details.\n\nFor further information visit https://errors.pydantic.dev/2.7/u/import-error",
     "output_type": "error",
     "traceback": [
      "\u001b[0;31m---------------------------------------------------------------------------\u001b[0m",
      "\u001b[0;31mPydanticImportError\u001b[0m                       Traceback (most recent call last)",
      "\u001b[0;32m<ipython-input-15-870ad162aabe>\u001b[0m in \u001b[0;36m<module>\u001b[0;34m\u001b[0m\n\u001b[0;32m----> 1\u001b[0;31m \u001b[0;32mimport\u001b[0m \u001b[0mpandas_profiling\u001b[0m\u001b[0;34m\u001b[0m\u001b[0;34m\u001b[0m\u001b[0m\n\u001b[0m\u001b[1;32m      2\u001b[0m \u001b[0;34m\u001b[0m\u001b[0m\n\u001b[1;32m      3\u001b[0m \u001b[0mprofile\u001b[0m \u001b[0;34m=\u001b[0m \u001b[0mpandas_profiling\u001b[0m\u001b[0;34m.\u001b[0m\u001b[0mProfileReport\u001b[0m\u001b[0;34m(\u001b[0m\u001b[0mdf\u001b[0m\u001b[0;34m)\u001b[0m\u001b[0;34m\u001b[0m\u001b[0;34m\u001b[0m\u001b[0m\n\u001b[1;32m      4\u001b[0m \u001b[0mprofile\u001b[0m\u001b[0;34m.\u001b[0m\u001b[0mto_widgets\u001b[0m\u001b[0;34m(\u001b[0m\u001b[0;34m)\u001b[0m\u001b[0;34m\u001b[0m\u001b[0;34m\u001b[0m\u001b[0m\n",
      "\u001b[0;32m/workspaces/nd0821-c2-build-model-workflow-starter/venv/lib/python3.9/site-packages/pandas_profiling/__init__.py\u001b[0m in \u001b[0;36m<module>\u001b[0;34m\u001b[0m\n\u001b[1;32m      6\u001b[0m \u001b[0;32mfrom\u001b[0m \u001b[0mwarnings\u001b[0m \u001b[0;32mimport\u001b[0m \u001b[0mwarn\u001b[0m\u001b[0;34m\u001b[0m\u001b[0;34m\u001b[0m\u001b[0m\n\u001b[1;32m      7\u001b[0m \u001b[0;34m\u001b[0m\u001b[0m\n\u001b[0;32m----> 8\u001b[0;31m \u001b[0;32mfrom\u001b[0m \u001b[0mpandas_profiling\u001b[0m\u001b[0;34m.\u001b[0m\u001b[0mcompare_reports\u001b[0m \u001b[0;32mimport\u001b[0m \u001b[0mcompare\u001b[0m\u001b[0;34m\u001b[0m\u001b[0;34m\u001b[0m\u001b[0m\n\u001b[0m\u001b[1;32m      9\u001b[0m \u001b[0;32mfrom\u001b[0m \u001b[0mpandas_profiling\u001b[0m\u001b[0;34m.\u001b[0m\u001b[0mcontroller\u001b[0m \u001b[0;32mimport\u001b[0m \u001b[0mpandas_decorator\u001b[0m\u001b[0;34m\u001b[0m\u001b[0;34m\u001b[0m\u001b[0m\n\u001b[1;32m     10\u001b[0m \u001b[0;32mfrom\u001b[0m \u001b[0mpandas_profiling\u001b[0m\u001b[0;34m.\u001b[0m\u001b[0mprofile_report\u001b[0m \u001b[0;32mimport\u001b[0m \u001b[0mProfileReport\u001b[0m\u001b[0;34m\u001b[0m\u001b[0;34m\u001b[0m\u001b[0m\n",
      "\u001b[0;32m/workspaces/nd0821-c2-build-model-workflow-starter/venv/lib/python3.9/site-packages/pandas_profiling/compare_reports.py\u001b[0m in \u001b[0;36m<module>\u001b[0;34m\u001b[0m\n\u001b[1;32m      4\u001b[0m \u001b[0;32mimport\u001b[0m \u001b[0mpandas\u001b[0m \u001b[0;32mas\u001b[0m \u001b[0mpd\u001b[0m\u001b[0;34m\u001b[0m\u001b[0;34m\u001b[0m\u001b[0m\n\u001b[1;32m      5\u001b[0m \u001b[0;34m\u001b[0m\u001b[0m\n\u001b[0;32m----> 6\u001b[0;31m \u001b[0;32mfrom\u001b[0m \u001b[0mpandas_profiling\u001b[0m\u001b[0;34m.\u001b[0m\u001b[0mconfig\u001b[0m \u001b[0;32mimport\u001b[0m \u001b[0mCorrelation\u001b[0m\u001b[0;34m,\u001b[0m \u001b[0mSettings\u001b[0m\u001b[0;34m\u001b[0m\u001b[0;34m\u001b[0m\u001b[0m\n\u001b[0m\u001b[1;32m      7\u001b[0m \u001b[0;32mfrom\u001b[0m \u001b[0mpandas_profiling\u001b[0m\u001b[0;34m.\u001b[0m\u001b[0mmodel\u001b[0m\u001b[0;34m.\u001b[0m\u001b[0malerts\u001b[0m \u001b[0;32mimport\u001b[0m \u001b[0mAlert\u001b[0m\u001b[0;34m\u001b[0m\u001b[0;34m\u001b[0m\u001b[0m\n\u001b[1;32m      8\u001b[0m \u001b[0;32mfrom\u001b[0m \u001b[0mpandas_profiling\u001b[0m\u001b[0;34m.\u001b[0m\u001b[0mprofile_report\u001b[0m \u001b[0;32mimport\u001b[0m \u001b[0mProfileReport\u001b[0m\u001b[0;34m\u001b[0m\u001b[0;34m\u001b[0m\u001b[0m\n",
      "\u001b[0;32m/workspaces/nd0821-c2-build-model-workflow-starter/venv/lib/python3.9/site-packages/pandas_profiling/config.py\u001b[0m in \u001b[0;36m<module>\u001b[0;34m\u001b[0m\n\u001b[1;32m      5\u001b[0m \u001b[0;34m\u001b[0m\u001b[0m\n\u001b[1;32m      6\u001b[0m \u001b[0;32mimport\u001b[0m \u001b[0myaml\u001b[0m\u001b[0;34m\u001b[0m\u001b[0;34m\u001b[0m\u001b[0m\n\u001b[0;32m----> 7\u001b[0;31m \u001b[0;32mfrom\u001b[0m \u001b[0mpydantic\u001b[0m \u001b[0;32mimport\u001b[0m \u001b[0mBaseModel\u001b[0m\u001b[0;34m,\u001b[0m \u001b[0mBaseSettings\u001b[0m\u001b[0;34m,\u001b[0m \u001b[0mField\u001b[0m\u001b[0;34m,\u001b[0m \u001b[0mPrivateAttr\u001b[0m\u001b[0;34m\u001b[0m\u001b[0;34m\u001b[0m\u001b[0m\n\u001b[0m\u001b[1;32m      8\u001b[0m \u001b[0;34m\u001b[0m\u001b[0m\n\u001b[1;32m      9\u001b[0m \u001b[0;34m\u001b[0m\u001b[0m\n",
      "\u001b[0;32m/workspaces/nd0821-c2-build-model-workflow-starter/venv/lib/python3.9/site-packages/pydantic/__init__.py\u001b[0m in \u001b[0;36m__getattr__\u001b[0;34m(attr_name)\u001b[0m\n\u001b[1;32m    384\u001b[0m     \u001b[0mdynamic_attr\u001b[0m \u001b[0;34m=\u001b[0m \u001b[0m_dynamic_imports\u001b[0m\u001b[0;34m.\u001b[0m\u001b[0mget\u001b[0m\u001b[0;34m(\u001b[0m\u001b[0mattr_name\u001b[0m\u001b[0;34m)\u001b[0m\u001b[0;34m\u001b[0m\u001b[0;34m\u001b[0m\u001b[0m\n\u001b[1;32m    385\u001b[0m     \u001b[0;32mif\u001b[0m \u001b[0mdynamic_attr\u001b[0m \u001b[0;32mis\u001b[0m \u001b[0;32mNone\u001b[0m\u001b[0;34m:\u001b[0m\u001b[0;34m\u001b[0m\u001b[0;34m\u001b[0m\u001b[0m\n\u001b[0;32m--> 386\u001b[0;31m         \u001b[0;32mreturn\u001b[0m \u001b[0m_getattr_migration\u001b[0m\u001b[0;34m(\u001b[0m\u001b[0mattr_name\u001b[0m\u001b[0;34m)\u001b[0m\u001b[0;34m\u001b[0m\u001b[0;34m\u001b[0m\u001b[0m\n\u001b[0m\u001b[1;32m    387\u001b[0m \u001b[0;34m\u001b[0m\u001b[0m\n\u001b[1;32m    388\u001b[0m     \u001b[0mpackage\u001b[0m\u001b[0;34m,\u001b[0m \u001b[0mmodule_name\u001b[0m \u001b[0;34m=\u001b[0m \u001b[0mdynamic_attr\u001b[0m\u001b[0;34m\u001b[0m\u001b[0;34m\u001b[0m\u001b[0m\n",
      "\u001b[0;32m/workspaces/nd0821-c2-build-model-workflow-starter/venv/lib/python3.9/site-packages/pydantic/_migration.py\u001b[0m in \u001b[0;36mwrapper\u001b[0;34m(name)\u001b[0m\n\u001b[1;32m    294\u001b[0m             \u001b[0;32mreturn\u001b[0m \u001b[0mimport_string\u001b[0m\u001b[0;34m(\u001b[0m\u001b[0mREDIRECT_TO_V1\u001b[0m\u001b[0;34m[\u001b[0m\u001b[0mimport_path\u001b[0m\u001b[0;34m]\u001b[0m\u001b[0;34m)\u001b[0m\u001b[0;34m\u001b[0m\u001b[0;34m\u001b[0m\u001b[0m\n\u001b[1;32m    295\u001b[0m         \u001b[0;32mif\u001b[0m \u001b[0mimport_path\u001b[0m \u001b[0;34m==\u001b[0m \u001b[0;34m'pydantic:BaseSettings'\u001b[0m\u001b[0;34m:\u001b[0m\u001b[0;34m\u001b[0m\u001b[0;34m\u001b[0m\u001b[0m\n\u001b[0;32m--> 296\u001b[0;31m             raise PydanticImportError(\n\u001b[0m\u001b[1;32m    297\u001b[0m                 \u001b[0;34m'`BaseSettings` has been moved to the `pydantic-settings` package. '\u001b[0m\u001b[0;34m\u001b[0m\u001b[0;34m\u001b[0m\u001b[0m\n\u001b[1;32m    298\u001b[0m                 \u001b[0;34mf'See https://docs.pydantic.dev/{version_short()}/migration/#basesettings-has-moved-to-pydantic-settings '\u001b[0m\u001b[0;34m\u001b[0m\u001b[0;34m\u001b[0m\u001b[0m\n",
      "\u001b[0;31mPydanticImportError\u001b[0m: `BaseSettings` has been moved to the `pydantic-settings` package. See https://docs.pydantic.dev/2.7/migration/#basesettings-has-moved-to-pydantic-settings for more details.\n\nFor further information visit https://errors.pydantic.dev/2.7/u/import-error"
     ]
    }
   ],
   "source": [
    "import pandas_profiling\n",
    "\n",
    "profile = pandas_profiling.ProfileReport(df)\n",
    "profile.to_widgets()"
   ]
  },
  {
   "cell_type": "code",
   "execution_count": 3,
   "id": "61ccfbf5",
   "metadata": {},
   "outputs": [],
   "source": [
    "# Drop outliers\n",
    "min_price = 10\n",
    "max_price = 350\n",
    "idx = df['price'].between(min_price, max_price)\n",
    "df = df[idx].copy()\n",
    "# Convert last_review to datetime\n",
    "df['last_review'] = pd.to_datetime(df['last_review'])"
   ]
  },
  {
   "cell_type": "code",
   "execution_count": 4,
   "id": "7f68c18f",
   "metadata": {},
   "outputs": [
    {
     "name": "stdout",
     "output_type": "stream",
     "text": [
      "<class 'pandas.core.frame.DataFrame'>\n",
      "Index: 19001 entries, 0 to 19999\n",
      "Data columns (total 16 columns):\n",
      " #   Column                          Non-Null Count  Dtype         \n",
      "---  ------                          --------------  -----         \n",
      " 0   id                              19001 non-null  int64         \n",
      " 1   name                            18994 non-null  object        \n",
      " 2   host_id                         19001 non-null  int64         \n",
      " 3   host_name                       18993 non-null  object        \n",
      " 4   neighbourhood_group             19001 non-null  object        \n",
      " 5   neighbourhood                   19001 non-null  object        \n",
      " 6   latitude                        19001 non-null  float64       \n",
      " 7   longitude                       19001 non-null  float64       \n",
      " 8   room_type                       19001 non-null  object        \n",
      " 9   price                           19001 non-null  int64         \n",
      " 10  minimum_nights                  19001 non-null  int64         \n",
      " 11  number_of_reviews               19001 non-null  int64         \n",
      " 12  last_review                     15243 non-null  datetime64[ns]\n",
      " 13  reviews_per_month               15243 non-null  float64       \n",
      " 14  calculated_host_listings_count  19001 non-null  int64         \n",
      " 15  availability_365                19001 non-null  int64         \n",
      "dtypes: datetime64[ns](1), float64(3), int64(7), object(5)\n",
      "memory usage: 2.5+ MB\n"
     ]
    }
   ],
   "source": [
    "df.info()"
   ]
  },
  {
   "cell_type": "code",
   "execution_count": 5,
   "id": "c2b06da8",
   "metadata": {},
   "outputs": [
    {
     "data": {
      "text/plain": [
       "id                                   0\n",
       "name                                 7\n",
       "host_id                              0\n",
       "host_name                            8\n",
       "neighbourhood_group                  0\n",
       "neighbourhood                        0\n",
       "latitude                             0\n",
       "longitude                            0\n",
       "room_type                            0\n",
       "price                                0\n",
       "minimum_nights                       0\n",
       "number_of_reviews                    0\n",
       "last_review                       3758\n",
       "reviews_per_month                 3758\n",
       "calculated_host_listings_count       0\n",
       "availability_365                     0\n",
       "dtype: int64"
      ]
     },
     "execution_count": 5,
     "metadata": {},
     "output_type": "execute_result"
    }
   ],
   "source": [
    "df.isna().sum()"
   ]
  },
  {
   "cell_type": "code",
   "execution_count": 6,
   "id": "490b2894",
   "metadata": {},
   "outputs": [],
   "source": [
    "df.to_csv(\"clean_sample.csv\", index=False)"
   ]
  },
  {
   "cell_type": "code",
   "execution_count": null,
   "id": "33a18d1d",
   "metadata": {},
   "outputs": [],
   "source": []
  }
 ],
 "metadata": {
  "kernelspec": {
   "display_name": "Python 3 (ipykernel)",
   "language": "python",
   "name": "python3"
  },
  "language_info": {
   "codemirror_mode": {
    "name": "ipython",
    "version": 3
   },
   "file_extension": ".py",
   "mimetype": "text/x-python",
   "name": "python",
   "nbconvert_exporter": "python",
   "pygments_lexer": "ipython3",
   "version": "3.9.15"
  }
 },
 "nbformat": 4,
 "nbformat_minor": 5
}
